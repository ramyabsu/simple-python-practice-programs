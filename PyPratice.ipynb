{
 "cells": [
  {
   "cell_type": "markdown",
   "metadata": {},
   "source": [
    "# Python practice\n",
    "Write a Python program to calculate the length of a string"
   ]
  },
  {
   "cell_type": "code",
   "execution_count": 6,
   "metadata": {},
   "outputs": [
    {
     "data": {
      "text/plain": [
       "11"
      ]
     },
     "execution_count": 6,
     "metadata": {},
     "output_type": "execute_result"
    }
   ],
   "source": [
    "len('Hello there')"
   ]
  },
  {
   "cell_type": "code",
   "execution_count": 7,
   "metadata": {},
   "outputs": [
    {
     "data": {
      "text/plain": [
       "11"
      ]
     },
     "execution_count": 7,
     "metadata": {},
     "output_type": "execute_result"
    }
   ],
   "source": [
    "mystr = \"Hello there\"\n",
    "length = 0\n",
    "for i in mystr:\n",
    "    length +=1\n",
    "length"
   ]
  },
  {
   "cell_type": "markdown",
   "metadata": {},
   "source": [
    "#Write a Python program to sum all the items in a list."
   ]
  },
  {
   "cell_type": "code",
   "execution_count": 14,
   "metadata": {},
   "outputs": [
    {
     "data": {
      "text/plain": [
       "15"
      ]
     },
     "execution_count": 14,
     "metadata": {},
     "output_type": "execute_result"
    }
   ],
   "source": [
    "#Write a Python program to sum all the items in a list.\n",
    "my_list = [1, 2, 3, 4 ,5]\n",
    "total = 0\n",
    "for i in my_list:\n",
    "    total += i\n",
    "total\n",
    "    "
   ]
  },
  {
   "cell_type": "code",
   "execution_count": 16,
   "metadata": {},
   "outputs": [
    {
     "data": {
      "text/plain": [
       "7"
      ]
     },
     "execution_count": 16,
     "metadata": {},
     "output_type": "execute_result"
    }
   ],
   "source": [
    "#Write a Python program to get the largest number from a list\n",
    "\n",
    "my_list = [2, 4, 1, 7, 3]\n",
    "largest = 0\n",
    "for i in my_list:\n",
    "    if i > largest:\n",
    "        largest = i\n",
    "largest"
   ]
  },
  {
   "cell_type": "code",
   "execution_count": 22,
   "metadata": {},
   "outputs": [
    {
     "data": {
      "text/plain": [
       "{'j': 3, 'd': 2, 'a': 2, 'k': 4, 's': 4, 'l': 2}"
      ]
     },
     "execution_count": 22,
     "metadata": {},
     "output_type": "execute_result"
    }
   ],
   "source": [
    "#Write a Python program to count the number of characters (character frequency) in a string\n",
    "\n",
    "mystr = \"jdaksdjalks slkjsk\"\n",
    "mydict = {}\n",
    "for i in mystr:\n",
    "    key = mydict.keys()\n",
    "    if i == ' ':\n",
    "        pass\n",
    "    else:\n",
    "        if i in key:\n",
    "            mydict[i] += 1    \n",
    "        else:\n",
    "            mydict[i] = 1\n",
    "    \n",
    "mydict\n",
    "\n",
    "        "
   ]
  },
  {
   "cell_type": "code",
   "execution_count": 48,
   "metadata": {},
   "outputs": [
    {
     "data": {
      "text/plain": [
       "1"
      ]
     },
     "execution_count": 48,
     "metadata": {},
     "output_type": "execute_result"
    }
   ],
   "source": [
    "#Write a Python program to count the number of strings where the string length is 2\n",
    "#or more and the first and last character are same from a given list of strings.\n",
    "\n",
    "words = ['abc', 'abcd', 'abcde', 'aba']\n",
    "count = 0\n",
    "for word in words:\n",
    "    if len(word) > 1 and word[0]==word[-1]: \n",
    "        count += 1\n",
    "count\n"
   ]
  },
  {
   "cell_type": "code",
   "execution_count": 65,
   "metadata": {},
   "outputs": [
    {
     "data": {
      "text/plain": [
       "[(2, 0), (2, 5, 1), (1, 2), (2, 3), (4, 4)]"
      ]
     },
     "execution_count": 65,
     "metadata": {},
     "output_type": "execute_result"
    }
   ],
   "source": [
    "#Write a Python program to get a list, sorted in increasing order by \n",
    "#the last element in each tuple from a given list of non-empty tuples\n",
    "\n",
    "mylist = [(2, 5, 1), (1, 2), (4, 4), (2, 3), (2, 0)]\n",
    "sorted_list = sorted(mylist, key=last)\n",
    "sorted_list\n"
   ]
  },
  {
   "cell_type": "code",
   "execution_count": 82,
   "metadata": {},
   "outputs": [
    {
     "name": "stdout",
     "output_type": "stream",
     "text": [
      "pyon\n"
     ]
    }
   ],
   "source": [
    "#Write a Python program to get a string made of the first 2 and the last 2 chars from a given a string. \n",
    "#If the string length is less than 2, return instead the empty string\n",
    "\n",
    "mystr = \"python\"\n",
    "if len(mystr)<2:\n",
    "    print('')\n",
    "else:\n",
    "    first2 = mystr[:2]\n",
    "    last2 = mystr[-2:]\n",
    "    finalstr= first2 + last2\n",
    "    print(finalstr)\n",
    "\n"
   ]
  },
  {
   "cell_type": "code",
   "execution_count": 109,
   "metadata": {},
   "outputs": [
    {
     "name": "stdout",
     "output_type": "stream",
     "text": [
      "ramyash$ee$$\n",
      "ramyash$ee\n"
     ]
    }
   ],
   "source": [
    "#Write a Python program to get a string from a given string where all occurrences of its \n",
    "#first char have been changed to '$', except the first char itself.\n",
    "\n",
    "mystr = \"ramyashreerr\"\n",
    "mylist = list(mystr)\n",
    "finalstr = ''\n",
    "for i in range(1,len(mylist)):    \n",
    "    if mylist[i] ==  mylist[0]:       \n",
    "        mylist[i] = '$'       \n",
    "finalstr = finalstr.join(mylist)\n",
    "print(finalstr)\n",
    "\n",
    "#or \n",
    "\n",
    "def change_char(str1):  \n",
    "  char = str1[0]  \n",
    "  #length = len(str1)  \n",
    "  str1 = str1.replace(char, '$')  \n",
    "  str1 = char + str1[1:]  \n",
    "  \n",
    "  return str1  \n",
    "  \n",
    "print(change_char('ramyashree')) \n",
    "    "
   ]
  },
  {
   "cell_type": "code",
   "execution_count": 110,
   "metadata": {},
   "outputs": [
    {
     "name": "stdout",
     "output_type": "stream",
     "text": [
      "xyc abz\n"
     ]
    }
   ],
   "source": [
    "#Write a Python program to get a single string from two given strings, \n",
    "#separated by a space and swap the first two characters of each stringdef chars_mix_up(a, b):  \n",
    "\n",
    "str1 = 'abc'\n",
    "str2 = 'xyz'\n",
    "new_str1 = str2[:2] + str1[2:]\n",
    "new_str2 = str1[:2] + str2[2:]  \n",
    "  \n",
    "print(new_str1 + \" \" + new_str2)"
   ]
  }
 ],
 "metadata": {
  "kernelspec": {
   "display_name": "Python 3",
   "language": "python",
   "name": "python3"
  },
  "language_info": {
   "codemirror_mode": {
    "name": "ipython",
    "version": 3
   },
   "file_extension": ".py",
   "mimetype": "text/x-python",
   "name": "python",
   "nbconvert_exporter": "python",
   "pygments_lexer": "ipython3",
   "version": "3.7.3"
  }
 },
 "nbformat": 4,
 "nbformat_minor": 2
}
